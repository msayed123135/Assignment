{
 "cells": [
  {
   "cell_type": "markdown",
   "id": "1d4aa543-3017-4c9e-a1c4-1b81daa0d344",
   "metadata": {},
   "source": [
    "#  \"My Jupyter Notebook on IBM Watson Studio\""
   ]
  },
  {
   "cell_type": "markdown",
   "id": "3c2ee0e2-6ddb-4cff-af8d-bbf025ce5a07",
   "metadata": {},
   "source": [
    "1.  My name is : **Mohamed Sayed Fathy Mohamed**.\n",
    "2.  My desired occupation is to be a data scientist.\n"
   ]
  },
  {
   "cell_type": "markdown",
   "id": "9f872dc7-902b-42e0-a135-fecaac967274",
   "metadata": {},
   "source": [
    "*\"I am interested in data science because: 1.  Data science can help us reduce the rate of unpleasant things. 2.  Data science requires the characteristics of detectives in which I am interested.\"*"
   ]
  },
  {
   "cell_type": "markdown",
   "id": "1e11a8e6-5bad-47ee-a54b-53b42654bd93",
   "metadata": {},
   "source": [
    "### What my code is supposed to do in Cell 5 is to show me the result of 2+2"
   ]
  },
  {
   "cell_type": "code",
   "execution_count": 6,
   "id": "acf91e21-e1b2-4a13-81e5-783bb8c0e396",
   "metadata": {},
   "outputs": [
    {
     "data": {
      "text/plain": [
       "4"
      ]
     },
     "execution_count": 6,
     "metadata": {},
     "output_type": "execute_result"
    }
   ],
   "source": [
    "2+2"
   ]
  },
  {
   "cell_type": "markdown",
   "id": "dc17a400-98d0-4560-9537-4b3728e8119e",
   "metadata": {},
   "source": [
    "There are three people or more are running towards a fight against a girl with hijab...\n",
    "\n",
    "---\n",
    "* Purpose.\n",
    "* Aim.\n",
    "* Motivation.\n",
    "\n",
    "---\n",
    "\n",
    "1.  One.\n",
    "2.  Two.\n",
    "3.  Three.\n"
   ]
  }
 ],
 "metadata": {
  "kernelspec": {
   "display_name": "Python",
   "language": "python",
   "name": "conda-env-python-py"
  },
  "language_info": {
   "codemirror_mode": {
    "name": "ipython",
    "version": 3
   },
   "file_extension": ".py",
   "mimetype": "text/x-python",
   "name": "python",
   "nbconvert_exporter": "python",
   "pygments_lexer": "ipython3",
   "version": "3.7.12"
  }
 },
 "nbformat": 4,
 "nbformat_minor": 5
}
